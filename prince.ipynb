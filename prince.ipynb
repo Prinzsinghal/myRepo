{
 "cells": [
  {
   "cell_type": "code",
   "execution_count": 1,
   "id": "00513a22",
   "metadata": {},
   "outputs": [
    {
     "ename": "NameError",
     "evalue": "name 'root' is not defined",
     "output_type": "error",
     "traceback": [
      "\u001b[1;31m---------------------------------------------------------------------------\u001b[0m",
      "\u001b[1;31mNameError\u001b[0m                                 Traceback (most recent call last)",
      "Cell \u001b[1;32mIn[1], line 3\u001b[0m\n\u001b[0;32m      1\u001b[0m \u001b[38;5;28;01mfrom\u001b[39;00m  \u001b[38;5;21;01mtkinter\u001b[39;00m \u001b[38;5;28;01mimport\u001b[39;00m \u001b[38;5;241m*\u001b[39m \n\u001b[0;32m      2\u001b[0m root1\u001b[38;5;241m=\u001b[39mTk()\n\u001b[1;32m----> 3\u001b[0m MyLabel1\u001b[38;5;241m=\u001b[39mLabel(\u001b[43mroot\u001b[49m,text\u001b[38;5;241m=\u001b[39m\u001b[38;5;124m\"\u001b[39m\u001b[38;5;124mHello! welcome to third day of train\u001b[39m\u001b[38;5;124m\"\u001b[39m)\n\u001b[0;32m      4\u001b[0m MyLabel2\u001b[38;5;241m=\u001b[39mLabel(root,text\u001b[38;5;241m=\u001b[39m\u001b[38;5;124m\"\u001b[39m\u001b[38;5;124mmy name is Prince\u001b[39m\u001b[38;5;124m\"\u001b[39m)\n\u001b[0;32m      5\u001b[0m MyLabel3\u001b[38;5;241m=\u001b[39mLabel(root,text\u001b[38;5;241m=\u001b[39m\u001b[38;5;124m\"\u001b[39m\u001b[38;5;124mNIET\u001b[39m\u001b[38;5;124m\"\u001b[39m)\n",
      "\u001b[1;31mNameError\u001b[0m: name 'root' is not defined"
     ]
    }
   ],
   "source": [
    "from  tkinter import * \n",
    "root1=Tk()\n",
    "MyLabel1=Label(root,text=\"Hello! welcome to third day of train\")\n",
    "MyLabel2=Label(root,text=\"my name is Prince\")\n",
    "MyLabel3=Label(root,text=\"NIET\")\n",
    "#INSTANCE OF PACKING THESE THINGS WE WANT TO USE THE GRID SYS\n",
    "MYLabel1.grid(row=0,column=0)\n",
    "MYLabel2.grid(row=10,column=10)\n",
    "MYLabel3.grid(row=20,column=20)\n",
    "#MyLabel.pack1()\n",
    "#MyLabel.pack2()\n",
    "#MyLabel.pack3()\n",
    "root1.mainloop()"
   ]
  },
  {
   "cell_type": "code",
   "execution_count": 2,
   "id": "3d04da38",
   "metadata": {},
   "outputs": [
    {
     "ename": "NameError",
     "evalue": "name 'DISABELD' is not defined",
     "output_type": "error",
     "traceback": [
      "\u001b[1;31m---------------------------------------------------------------------------\u001b[0m",
      "\u001b[1;31mNameError\u001b[0m                                 Traceback (most recent call last)",
      "Cell \u001b[1;32mIn[2], line 2\u001b[0m\n\u001b[0;32m      1\u001b[0m root1\u001b[38;5;241m=\u001b[39mTk()\n\u001b[1;32m----> 2\u001b[0m myButton\u001b[38;5;241m=\u001b[39mButton(root1,text\u001b[38;5;241m=\u001b[39m\u001b[38;5;124m\"\u001b[39m\u001b[38;5;124mclick to learn more\u001b[39m\u001b[38;5;124m\"\u001b[39m,state\u001b[38;5;241m=\u001b[39m\u001b[43mDISABELD\u001b[49m,padx\u001b[38;5;241m=\u001b[39m\u001b[38;5;241m30\u001b[39m,pady\u001b[38;5;241m=\u001b[39m\u001b[38;5;241m30\u001b[39m)\n\u001b[0;32m      3\u001b[0m myButton\u001b[38;5;241m.\u001b[39mpack()\n\u001b[0;32m      4\u001b[0m root1\u001b[38;5;241m.\u001b[39mmainloop()\n",
      "\u001b[1;31mNameError\u001b[0m: name 'DISABELD' is not defined"
     ]
    }
   ],
   "source": []
  },
  {
   "cell_type": "code",
   "execution_count": null,
   "id": "e966d0da",
   "metadata": {},
   "outputs": [],
   "source": [
    "from  tkinter import * \n",
    "root=Tk()\n",
    "MyLabel=Label(root,text=\"Hello! welcome to third day of train\")\n",
    "MyLabel.pack()\n",
    "root.mainloop()\n",
    "#from  tkinter import * \n",
    "root1=Tk()\n",
    "MyLabel1=Label(root,text=\"Hello! welcome to third day of train\")\n",
    "MyLabel2=Label(root,text=\"my name is Prince\")\n",
    "MyLabel3=Label(root,text=\"NIET\")\n",
    "#INSTANCE OF PACKING THESE THINGS WE WANT TO USE THE GRID SYS\n",
    "MYLabel1.grid(row=0,column=0)\n",
    "MYLabel2.grid(row=10,column=10)\n",
    "MYLabel3.grid(row=20,column=20)\n",
    "#MyLabel.pack1()\n",
    "#MyLabel.pack2()\n",
    "#MyLabel.pack3()\n",
    "root1.mainloop()\n",
    "root1=Tk()\n",
    "myButton=Button(root1,text=\"click to learn more\",state=DISABELD,padx=30,pady=30)\n",
    "myButton.pack()\n",
    "root1.mainloop()"
   ]
  },
  {
   "cell_type": "code",
   "execution_count": null,
   "id": "b317777e",
   "metadata": {},
   "outputs": [],
   "source": [
    "import tkinter\n",
    "window = tkinter.Tk()\n",
    "window.title(\"edureka\")\n",
    "top_Frame=tkinter.Frame(window).pack()\n",
    "bottom_Frame=tkinter.Frame(window).pack(side=\"bottom\")\n",
    "btn_1=tkinter.Button(top_Frame,text=\"Button 1\",fg=\"red\").pack()\n",
    "btn_2=tkinter.Button(top_Frame,text=\"Button 2\",fg=\"green\").pack()\n",
    "btn_3=tkinter.Button(bottom_Frame,text=\"Button 1\",fg=\"purple\").pack(side=\"left\")\n",
    "btn_4=tkinter.Button(bottom_Frame,text=\"Button 2\",fg=\"orange\").pack(side=\"left\")\n",
    "window.mainloop()"
   ]
  },
  {
   "cell_type": "code",
   "execution_count": null,
   "id": "380c5348",
   "metadata": {},
   "outputs": [],
   "source": []
  }
 ],
 "metadata": {
  "kernelspec": {
   "display_name": "Python 3 (ipykernel)",
   "language": "python",
   "name": "python3"
  },
  "language_info": {
   "codemirror_mode": {
    "name": "ipython",
    "version": 3
   },
   "file_extension": ".py",
   "mimetype": "text/x-python",
   "name": "python",
   "nbconvert_exporter": "python",
   "pygments_lexer": "ipython3",
   "version": "3.10.9"
  }
 },
 "nbformat": 4,
 "nbformat_minor": 5
}
