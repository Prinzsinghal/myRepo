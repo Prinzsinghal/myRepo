{
 "cells": [
  {
   "cell_type": "code",
   "execution_count": 18,
   "id": "33428170",
   "metadata": {},
   "outputs": [
    {
     "ename": "IndentationError",
     "evalue": "unexpected indent (327198791.py, line 7)",
     "output_type": "error",
     "traceback": [
      "\u001b[1;36m  Cell \u001b[1;32mIn[18], line 7\u001b[1;36m\u001b[0m\n\u001b[1;33m    print(object.name)\u001b[0m\n\u001b[1;37m    ^\u001b[0m\n\u001b[1;31mIndentationError\u001b[0m\u001b[1;31m:\u001b[0m unexpected indent\n"
     ]
    }
   ],
   "source": [
    "class employee:\n",
    "    salary=7000\n",
    "    def __init__(self,name):\n",
    "        self.name=name\n",
    "object=employee()\n",
    "    #object=employee()\n",
    "    print(object.name)\n",
    "    print(employee.salary)"
   ]
  },
  {
   "cell_type": "code",
   "execution_count": 4,
   "id": "0ad1853c",
   "metadata": {},
   "outputs": [
    {
     "name": "stdout",
     "output_type": "stream",
     "text": [
      "yes it is \n"
     ]
    }
   ],
   "source": [
    "from tkinter import *\n",
    "root=Tk()\n",
    "root.title(\"rayyan\")\n",
    "\n",
    "def a():\n",
    "    print(\"yes it is \")\n",
    "\n",
    "f1=Frame(root,bg=\"red\")\n",
    "f1.pack()\n",
    "\n",
    "button=Button(f1,text=\"click it\",command=a)\n",
    "button.pack()\n",
    "\n",
    "\n",
    "root.mainloop()"
   ]
  },
  {
   "cell_type": "code",
   "execution_count": 5,
   "id": "7afb275f",
   "metadata": {},
   "outputs": [],
   "source": [
    "#from tkinter import * \n",
    "#root=Tk()\n",
    "#root.title(\"prince\")\n",
    "def a():\n",
    "    print (\"yes it is\")\n",
    "f1=Frame(root,bg=\"red\")\n",
    "#f1.pack()\n",
    "button=Button(f1,text=\"click it\",command=a)\n",
    "#button.pack()\n",
    "\n",
    "#root.mainloop()"
   ]
  },
  {
   "cell_type": "code",
   "execution_count": 12,
   "id": "2cd92a2c",
   "metadata": {},
   "outputs": [
    {
     "name": "stdout",
     "output_type": "stream",
     "text": [
      "yes it is\n"
     ]
    }
   ],
   "source": [
    "from tkinter import *\n",
    "root=Tk()\n",
    "root.title(\"prince\")\n",
    "def a():\n",
    "    print(\"yes it is\")\n",
    "f1=Frame(root,bg=\"red\")\n",
    "f1.pack()\n",
    "button=Button(f1,text=\"click the button\",command=a)\n",
    "button.pack()\n",
    "root.mainloop()"
   ]
  },
  {
   "cell_type": "code",
   "execution_count": 13,
   "id": "060a98c4",
   "metadata": {},
   "outputs": [
    {
     "name": "stdout",
     "output_type": "stream",
     "text": [
      "prince\n"
     ]
    }
   ],
   "source": [
    "class check:\n",
    "    def __init__(self):\n",
    "        self.name=\"prince\"\n",
    "obj=check()\n",
    "print(obj.name)"
   ]
  },
  {
   "cell_type": "code",
   "execution_count": null,
   "id": "2a0d96fd",
   "metadata": {},
   "outputs": [],
   "source": [
    "class Circle:\n",
    "    pi=3.14\n",
    "    def __init__(self,radius):\n",
    "        self.radius=radius\n",
    "    def calculate_area(self):\n",
    "        return Circle PI*self.radius**2)\n",
    "        "
   ]
  },
  {
   "cell_type": "code",
   "execution_count": 27,
   "id": "f71b39d2",
   "metadata": {},
   "outputs": [
    {
     "name": "stdout",
     "output_type": "stream",
     "text": [
      "  Names  Rollno  Marks\n",
      "0   abc     101     90\n",
      "1   xyz     102     88\n",
      "2   uvw     103     85\n"
     ]
    }
   ],
   "source": [
    "import pandas as pd\n",
    "\n",
    "data = {\n",
    "    \"Names\": [\"sti\", \"st2\", \"st3\"],\n",
    "    \"Rollno\": [101, 102, 103],\n",
    "    \"Marks\": [90, 88, 85],\n",
    "}\n",
    "\n",
    "df = pd.DataFrame(data)\n",
    "\n",
    "df[\"Names\"] = [\"abc\", \"xyz\", \"uvw\"]\n",
    "\n",
    "print(df)\n"
   ]
  },
  {
   "cell_type": "code",
   "execution_count": 30,
   "id": "e40e0e65",
   "metadata": {},
   "outputs": [
    {
     "name": "stdout",
     "output_type": "stream",
     "text": [
      "  Names  Rollno  Marks\n",
      "0   sti     101     90\n",
      "1   st2     102     88\n",
      "2   st3     103     85\n"
     ]
    }
   ],
   "source": [
    "import pandas as pd\n",
    "\n",
    "data = {\n",
    "    \"Names\": [\"sti\", \"st2\", \"st3\"],\n",
    "    \"Rollno\": [101, 102, 103],\n",
    "    \"Marks\": [90, 88, 85],\n",
    "}\n",
    "\n",
    "df = pd.DataFrame(data)\n",
    "\n",
    "print(df)\n"
   ]
  },
  {
   "cell_type": "code",
   "execution_count": 28,
   "id": "cc7c6c97",
   "metadata": {},
   "outputs": [
    {
     "data": {
      "application/vnd.jupyter.widget-view+json": {
       "model_id": "4d30ec6cbb7942d5ae0ea9fd1d8fde53",
       "version_major": 2,
       "version_minor": 0
      },
      "text/plain": [
       "IntSlider(value=50)"
      ]
     },
     "metadata": {},
     "output_type": "display_data"
    }
   ],
   "source": [
    "import ipywidgets as widgets\n",
    "\n",
    "slider = widgets.IntSlider(min=0, max=100, value=50)\n",
    "display(slider)\n"
   ]
  },
  {
   "cell_type": "code",
   "execution_count": 29,
   "id": "abf948ea",
   "metadata": {},
   "outputs": [
    {
     "data": {
      "application/vnd.jupyter.widget-view+json": {
       "model_id": "f823744e9c2042bb81959d8a05b879a2",
       "version_major": 2,
       "version_minor": 0
      },
      "text/plain": [
       "IntSlider(value=40)"
      ]
     },
     "metadata": {},
     "output_type": "display_data"
    }
   ],
   "source": [
    "import ipywidgets as widgets \n",
    "slider= widgets.IntSlider(min=0,max=100,value=40)\n",
    "display(slider)"
   ]
  },
  {
   "cell_type": "code",
   "execution_count": 20,
   "id": "9dd8cfda",
   "metadata": {},
   "outputs": [
    {
     "ename": "SyntaxError",
     "evalue": "invalid decimal literal (2854233730.py, line 16)",
     "output_type": "error",
     "traceback": [
      "\u001b[1;36m  Cell \u001b[1;32mIn[20], line 16\u001b[1;36m\u001b[0m\n\u001b[1;33m    text.delete0.0\", \"end-1c\")\u001b[0m\n\u001b[1;37m                          ^\u001b[0m\n\u001b[1;31mSyntaxError\u001b[0m\u001b[1;31m:\u001b[0m invalid decimal literal\n"
     ]
    }
   ],
   "source": [
    "\n",
    "import tkinter as tk\n",
    "\n",
    "root = tk.Tk()\n",
    "root.title(\"Text Widget\")\n",
    "\n",
    "# Create a Text widget\n",
    "text = tk.Text(root)\n",
    "text.pack()\n",
    "# Insert a string at the beginning\n",
    "text.insert(\"1.0\", \"This is the beginning of the text.\")\n",
    "\n",
    "# Insert a string into the current text\n",
    "text.insert(\"2.0\", \"This is the middle of the text.\")\n",
    "\n",
    "# Delete the first a(\"nd last character of the text\n",
    "text.delete0.0\", \"end-1c\")\n",
    "\n",
    "root.mainloop()\n"
   ]
  },
  {
   "cell_type": "code",
   "execution_count": 19,
   "id": "bbe2c983",
   "metadata": {},
   "outputs": [
    {
     "ename": "TypeError",
     "evalue": "Text.delete() missing 1 required positional argument: 'index1'",
     "output_type": "error",
     "traceback": [
      "\u001b[1;31m---------------------------------------------------------------------------\u001b[0m",
      "\u001b[1;31mTypeError\u001b[0m                                 Traceback (most recent call last)",
      "Cell \u001b[1;32mIn[19], line 16\u001b[0m\n\u001b[0;32m     13\u001b[0m text\u001b[38;5;241m.\u001b[39minsert(\u001b[38;5;124m\"\u001b[39m\u001b[38;5;124m2.0\u001b[39m\u001b[38;5;124m\"\u001b[39m, \u001b[38;5;124m\"\u001b[39m\u001b[38;5;124mThis is the middle of the text.\u001b[39m\u001b[38;5;124m\"\u001b[39m)\n\u001b[0;32m     15\u001b[0m \u001b[38;5;66;03m# Delete the first and last character of the text\u001b[39;00m\n\u001b[1;32m---> 16\u001b[0m \u001b[43mtext\u001b[49m\u001b[38;5;241;43m.\u001b[39;49m\u001b[43mdelete\u001b[49m\u001b[43m(\u001b[49m\u001b[43m)\u001b[49m\n\u001b[0;32m     17\u001b[0m root\u001b[38;5;241m.\u001b[39mmainloop()\n",
      "\u001b[1;31mTypeError\u001b[0m: Text.delete() missing 1 required positional argument: 'index1'"
     ]
    }
   ],
   "source": [
    "import tkinter as tk\n",
    "\n",
    "root = tk.Tk()\n",
    "root.title(\"Text Widget\")\n",
    "\n",
    "# Create a Text widget\n",
    "text = tk.Text(root)\n",
    "text.pack()\n",
    "# Insert a string at the beginning\n",
    "text.insert(\"1.0\", \"This is the beginning of the text.\")\n",
    "\n",
    "# Insert a string into the current text\n",
    "text.insert(\"2.0\", \"This is the middle of the text.\")\n",
    "\n",
    "# Delete the first and last character of the text\n",
    "text.delete()\n",
    "root.mainloop()"
   ]
  },
  {
   "cell_type": "code",
   "execution_count": 21,
   "id": "8328f7de",
   "metadata": {},
   "outputs": [],
   "source": [
    "import tkinter as tk\n",
    "\n",
    "root = tk.Tk()\n",
    "root.title(\"Remove Button Example\")\n",
    "\n",
    "# Create a label\n",
    "label = tk.Label(root, text=\"Hello\")\n",
    "label.pack()\n",
    "\n",
    "# Create a button\n",
    "button = tk.Button(root, text=\"Remove\", command=label.destroy)\n",
    "button.pack()\n",
    "\n",
    "root.mainloop()\n"
   ]
  },
  {
   "cell_type": "code",
   "execution_count": 26,
   "id": "c1c428f4",
   "metadata": {},
   "outputs": [],
   "source": [
    "import tkinter as tk\n",
    "root = tk.Tk()\n",
    "root.title(\"Remove Button Example\")\n",
    "label= tk.Label(root,text=\"prince\")\n",
    "label.pack()\n",
    "button=tk.Button(root,text=\"Remove\",command=label.destroy)\n",
    "button.pack()\n",
    "root.mainloop()"
   ]
  },
  {
   "cell_type": "code",
   "execution_count": null,
   "id": "c6d5dd0a",
   "metadata": {},
   "outputs": [],
   "source": []
  }
 ],
 "metadata": {
  "kernelspec": {
   "display_name": "Python 3 (ipykernel)",
   "language": "python",
   "name": "python3"
  },
  "language_info": {
   "codemirror_mode": {
    "name": "ipython",
    "version": 3
   },
   "file_extension": ".py",
   "mimetype": "text/x-python",
   "name": "python",
   "nbconvert_exporter": "python",
   "pygments_lexer": "ipython3",
   "version": "3.10.9"
  }
 },
 "nbformat": 4,
 "nbformat_minor": 5
}
